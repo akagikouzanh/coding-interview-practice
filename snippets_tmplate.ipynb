{
 "cells": [
  {
   "cell_type": "markdown",
   "id": "63f1e1e1",
   "metadata": {},
   "source": [
    "## コーディング面接対策\n",
    "\n",
    "### 必ず、以下を記載すること\n",
    "\n",
    "- テスト問題\n",
    "- 実際のコード\n",
    "  - 実装そのもの\n",
    "  - 実装の言語化\n",
    "- 不明点\n",
    "\n",
    "<!-- python -m ipykernel install --user --name=coding-interview-practice --display-name \"Python (coding-interview-practice)\" -->\n"
   ]
  },
  {
   "cell_type": "code",
   "execution_count": null,
   "id": "7bc64b37",
   "metadata": {},
   "outputs": [],
   "source": []
  }
 ],
 "metadata": {
  "kernelspec": {
   "display_name": "Python (coding-interview-practice)",
   "language": "python",
   "name": "coding-interview-practice"
  },
  "language_info": {
   "codemirror_mode": {
    "name": "ipython",
    "version": 3
   },
   "file_extension": ".py",
   "mimetype": "text/x-python",
   "name": "python",
   "nbconvert_exporter": "python",
   "pygments_lexer": "ipython3",
   "version": "3.13.0"
  }
 },
 "nbformat": 4,
 "nbformat_minor": 5
}
