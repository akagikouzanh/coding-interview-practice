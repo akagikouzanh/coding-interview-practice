{
 "cells": [
  {
   "cell_type": "markdown",
   "id": "63f1e1e1",
   "metadata": {},
   "source": [
    "## コーディング面接対策\n",
    "\n",
    "### 必ず、以下を記載すること\n",
    "\n",
    "- テスト問題\n",
    "- 実際のコード\n",
    "  - 実装そのもの\n",
    "  - 実装の言語化\n",
    "- 不明点\n",
    "\n",
    "<!-- python -m ipykernel install --user --name=coding-interview-practice --display-name \"Python (coding-interview-practice)\" -->\n"
   ]
  },
  {
   "cell_type": "markdown",
   "id": "17a81d36",
   "metadata": {},
   "source": [
    "## アルゴリズムとデータ構造\n",
    "\n",
    "- 問題解決の手段・計算方法\n",
    "  - プログラミングの基礎\n",
    "  - システムパフォーマンス、保守の向上に繋がる\n",
    "- データの集まりを効果的に扱う、格納の形式\n"
   ]
  },
  {
   "cell_type": "markdown",
   "id": "ffd858ba",
   "metadata": {},
   "source": [
    "## Big O Notation(Big O 記法)\n",
    "\n",
    "O(1) < O(log n) < O(n) < O(n log n) < O(n^2) ...\n",
    "\n",
    "- O(1)\n",
    "- O(log n)\n",
    "- O(n)\n",
    "- O(n^n)\n",
    "- O(n^2)\n",
    "- O(n^3)\n"
   ]
  },
  {
   "cell_type": "code",
   "execution_count": 15,
   "id": "7bc64b37",
   "metadata": {},
   "outputs": [
    {
     "data": {
      "text/plain": [
       "1"
      ]
     },
     "execution_count": 15,
     "metadata": {},
     "output_type": "execute_result"
    }
   ],
   "source": [
    "# O(1) 一度で処理が終わる\n",
    "def func1(numbers):\n",
    "    return numbers[0]\n",
    "\n",
    "\n",
    "func1([1, 2, 3, 4, 5])"
   ]
  },
  {
   "cell_type": "code",
   "execution_count": 10,
   "id": "f9de68ae",
   "metadata": {},
   "outputs": [
    {
     "name": "stdout",
     "output_type": "stream",
     "text": [
      "10\n",
      "5.0\n",
      "2.5\n",
      "1.25\n"
     ]
    }
   ],
   "source": [
    "# O(log(n)) 再帰的に呼び出して1に向かって収束する\n",
    "def func2(n):\n",
    "    if n <= 1:\n",
    "        return\n",
    "    else:\n",
    "        print(n)\n",
    "        func2(n / 2)\n",
    "\n",
    "\n",
    "func2(10)"
   ]
  },
  {
   "cell_type": "code",
   "execution_count": 17,
   "id": "d2103507",
   "metadata": {},
   "outputs": [
    {
     "name": "stdout",
     "output_type": "stream",
     "text": [
      "1\n",
      "2\n",
      "3\n",
      "4\n",
      "5\n"
     ]
    }
   ],
   "source": [
    "# O(n) n回分右肩上がりに計算量が増えていく\n",
    "def func3(numbers):\n",
    "    for num in numbers:\n",
    "        print(num)\n",
    "\n",
    "\n",
    "func3([1, 2, 3, 4, 5])"
   ]
  },
  {
   "cell_type": "code",
   "execution_count": 16,
   "id": "67e27075",
   "metadata": {},
   "outputs": [
    {
     "name": "stdout",
     "output_type": "stream",
     "text": [
      "0 1 2 3 4 5 6 7 8 9 \n",
      "0 1 2 3 4 \n",
      "0 1 \n",
      "0 \n",
      "\n"
     ]
    }
   ],
   "source": [
    "# O(n * log(n)) n回分のforを回し、再帰的に呼び出して収束させていく\n",
    "def func4(n):\n",
    "    for i in range(int(n)):\n",
    "        print(i, end=\" \")\n",
    "    print()\n",
    "\n",
    "    if n <= 1:\n",
    "        return\n",
    "    func4(n / 2)\n",
    "\n",
    "\n",
    "func4(10)"
   ]
  },
  {
   "cell_type": "code",
   "execution_count": 14,
   "id": "c96f4048",
   "metadata": {},
   "outputs": [
    {
     "name": "stdout",
     "output_type": "stream",
     "text": [
      "0 0\n",
      "0 1\n",
      "0 2\n",
      "0 3\n",
      "0 4\n",
      "0 5\n",
      "\n",
      "1 0\n",
      "1 1\n",
      "1 2\n",
      "1 3\n",
      "1 4\n",
      "1 5\n",
      "\n",
      "2 0\n",
      "2 1\n",
      "2 2\n",
      "2 3\n",
      "2 4\n",
      "2 5\n",
      "\n",
      "3 0\n",
      "3 1\n",
      "3 2\n",
      "3 3\n",
      "3 4\n",
      "3 5\n",
      "\n",
      "4 0\n",
      "4 1\n",
      "4 2\n",
      "4 3\n",
      "4 4\n",
      "4 5\n",
      "\n",
      "5 0\n",
      "5 1\n",
      "5 2\n",
      "5 3\n",
      "5 4\n",
      "5 5\n",
      "\n"
     ]
    }
   ],
   "source": [
    "# O(n**2)\n",
    "def func5(numbers):\n",
    "    for i in range(len(numbers)):\n",
    "        for j in range(len(numbers)):\n",
    "            print(numbers[i], numbers[j])\n",
    "        print()\n",
    "\n",
    "\n",
    "func5([0, 1, 2, 3, 4, 5])"
   ]
  },
  {
   "cell_type": "code",
   "execution_count": null,
   "id": "486f2739",
   "metadata": {},
   "outputs": [],
   "source": []
  }
 ],
 "metadata": {
  "kernelspec": {
   "display_name": "Python (coding-interview-practice)",
   "language": "python",
   "name": "coding-interview-practice"
  },
  "language_info": {
   "codemirror_mode": {
    "name": "ipython",
    "version": 3
   },
   "file_extension": ".py",
   "mimetype": "text/x-python",
   "name": "python",
   "nbconvert_exporter": "python",
   "pygments_lexer": "ipython3",
   "version": "3.13.0"
  }
 },
 "nbformat": 4,
 "nbformat_minor": 5
}
